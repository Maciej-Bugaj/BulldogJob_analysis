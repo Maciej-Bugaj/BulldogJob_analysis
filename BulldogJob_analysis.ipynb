{
 "cells": [
  {
   "cell_type": "markdown",
   "metadata": {},
   "source": [
    "# <center><font color='green'>Analysis of data on job offers for the IT industry</font> </center>\n",
    "## <center>The data was collected using Web scraping from the [bulldogjob.pl](https://bulldogjob.pl/) platform</center>\n",
    "![logo](https://cdn.bulldogjob.com/assets/logo-6d85aa7138552c5b466f9a4fb26785893cceb34e7b344915bba0392dd125287a.png)"
   ]
  },
  {
   "cell_type": "code",
   "execution_count": 63,
   "metadata": {},
   "outputs": [],
   "source": [
    "import requests\n",
    "import pandas as pd\n",
    "import numpy as np\n",
    "import matplotlib as plt\n",
    "from bs4 import BeautifulSoup\n",
    "\n",
    "# Defining empty lists to which the results downloaded from the page will be added\n",
    "salary = []\n",
    "title=[]\n",
    "company=[]\n",
    "location=[]\n",
    "\n",
    "\n",
    "# Defining the number of pages that contain job search results in the pages variable\n",
    "pages = [1,2,3,4,5]\n",
    "for page in pages:\n",
    "    load = requests.get('https://bulldogjob.pl/companies/jobs/s/role,' +\n",
    "                    'backend,fullstack,devops,frontend,support,administrator,analyst,tester/with_salary,true?page=' + str(page))\n",
    "    soup = BeautifulSoup(load.text, 'html.parser')\n",
    "    \n",
    "# Adding salary information to the salary list and removing unnecessary characters\n",
    "    for item in soup.select(\"div.salary\"):\n",
    "        salary.append(item.get_text().strip(',/\\n- PLN EUR'))\n",
    "        while('' in salary):\n",
    "            salary.remove('')\n",
    "        \n",
    "            \n",
    "\n",
    "# Add job title information to the title list\n",
    "    for item in soup.select(\"div.title > h2\"):\n",
    "        \n",
    "        title.append(item.get_text().strip(',/\\n-').upper())\n",
    "\n",
    "# Adding company name information to the company list\n",
    "    for item in soup.select(\"div.company\"):\n",
    "        company.append(item.get_text().strip(',/\\n'))\n",
    "        \n",
    "# Adding information about the workplace to the location list \n",
    "    for item in soup.select(\"div.location\"):\n",
    "        location.append(item.get_text().strip(',/\\n'))\n",
    "       "
   ]
  },
  {
   "cell_type": "markdown",
   "metadata": {},
   "source": [
    "## <center>Creating a data frame from lists containing data downloaded from the page</center>"
   ]
  },
  {
   "cell_type": "code",
   "execution_count": 64,
   "metadata": {},
   "outputs": [],
   "source": [
    "dictionary = {'Company' : company, 'Job title' : title, 'Location' : location, 'Salary (PLN)' : salary}"
   ]
  },
  {
   "cell_type": "code",
   "execution_count": 65,
   "metadata": {},
   "outputs": [],
   "source": [
    "df = pd.DataFrame(dictionary)"
   ]
  },
  {
   "cell_type": "code",
   "execution_count": 66,
   "metadata": {},
   "outputs": [
    {
     "data": {
      "text/html": [
       "<div>\n",
       "<style scoped>\n",
       "    .dataframe tbody tr th:only-of-type {\n",
       "        vertical-align: middle;\n",
       "    }\n",
       "\n",
       "    .dataframe tbody tr th {\n",
       "        vertical-align: top;\n",
       "    }\n",
       "\n",
       "    .dataframe thead th {\n",
       "        text-align: right;\n",
       "    }\n",
       "</style>\n",
       "<table border=\"1\" class=\"dataframe\">\n",
       "  <thead>\n",
       "    <tr style=\"text-align: right;\">\n",
       "      <th></th>\n",
       "      <th>Company</th>\n",
       "      <th>Job title</th>\n",
       "      <th>Location</th>\n",
       "      <th>Salary (PLN)</th>\n",
       "    </tr>\n",
       "  </thead>\n",
       "  <tbody>\n",
       "    <tr>\n",
       "      <th>0</th>\n",
       "      <td>Applause</td>\n",
       "      <td>DEVOPS SOFTWARE ENGINEER</td>\n",
       "      <td>Warszawa</td>\n",
       "      <td>15 000 - 20 000</td>\n",
       "    </tr>\n",
       "    <tr>\n",
       "      <th>1</th>\n",
       "      <td>j-labs sp. z o.o.</td>\n",
       "      <td>BACKEND DEVELOPER (JAVA)</td>\n",
       "      <td>Kraków</td>\n",
       "      <td>12 000 - 19 000</td>\n",
       "    </tr>\n",
       "    <tr>\n",
       "      <th>2</th>\n",
       "      <td>Codemachine</td>\n",
       "      <td>FRONT-END DEVELOPER</td>\n",
       "      <td>Wrocław</td>\n",
       "      <td>12 000 - 16 000</td>\n",
       "    </tr>\n",
       "    <tr>\n",
       "      <th>3</th>\n",
       "      <td>Brainhub Sp. z o.o.</td>\n",
       "      <td>GO DEVELOPER</td>\n",
       "      <td>Gliwice, Wrocław, Kraków, Warszawa, Bielsko-Biała</td>\n",
       "      <td>10 000 - 16 000</td>\n",
       "    </tr>\n",
       "    <tr>\n",
       "      <th>4</th>\n",
       "      <td>KRUK S.A.</td>\n",
       "      <td>.NET DEVELOPER</td>\n",
       "      <td>Wrocław</td>\n",
       "      <td>7 000 - 12 000</td>\n",
       "    </tr>\n",
       "  </tbody>\n",
       "</table>\n",
       "</div>"
      ],
      "text/plain": [
       "               Company                 Job title  \\\n",
       "0             Applause  DEVOPS SOFTWARE ENGINEER   \n",
       "1    j-labs sp. z o.o.  BACKEND DEVELOPER (JAVA)   \n",
       "2          Codemachine       FRONT-END DEVELOPER   \n",
       "3  Brainhub Sp. z o.o.              GO DEVELOPER   \n",
       "4            KRUK S.A.            .NET DEVELOPER   \n",
       "\n",
       "                                            Location     Salary (PLN)  \n",
       "0                                           Warszawa  15 000 - 20 000  \n",
       "1                                             Kraków  12 000 - 19 000  \n",
       "2                                            Wrocław  12 000 - 16 000  \n",
       "3  Gliwice, Wrocław, Kraków, Warszawa, Bielsko-Biała  10 000 - 16 000  \n",
       "4                                            Wrocław   7 000 - 12 000  "
      ]
     },
     "execution_count": 66,
     "metadata": {},
     "output_type": "execute_result"
    }
   ],
   "source": [
    "df.head()"
   ]
  },
  {
   "cell_type": "code",
   "execution_count": 67,
   "metadata": {},
   "outputs": [
    {
     "name": "stdout",
     "output_type": "stream",
     "text": [
      "<class 'pandas.core.frame.DataFrame'>\n",
      "RangeIndex: 222 entries, 0 to 221\n",
      "Data columns (total 4 columns):\n",
      " #   Column        Non-Null Count  Dtype \n",
      "---  ------        --------------  ----- \n",
      " 0   Company       222 non-null    object\n",
      " 1   Job title     222 non-null    object\n",
      " 2   Location      222 non-null    object\n",
      " 3   Salary (PLN)  222 non-null    object\n",
      "dtypes: object(4)\n",
      "memory usage: 3.5+ KB\n"
     ]
    }
   ],
   "source": [
    "df.info()"
   ]
  },
  {
   "cell_type": "markdown",
   "metadata": {},
   "source": [
    "*The Salary (PLN) column is an object type and cannot be used for calculations, so we need to create new columns with numeric values that store the values from the Salary (PLN) column*\n"
   ]
  },
  {
   "cell_type": "markdown",
   "metadata": {},
   "source": [
    "## <center>Creation of two columns (MinSalary and MaxSalary) storing information about the minimum and maximum salary. The Salary (PLN) column is an object type and cannot be used for calculations</center>"
   ]
  },
  {
   "cell_type": "code",
   "execution_count": 68,
   "metadata": {},
   "outputs": [],
   "source": [
    "minSalary=[]\n",
    "maxSalary=[]\n",
    "for row in df['Salary (PLN)']:\n",
    "    if '-' in row:\n",
    "        minMax=row.replace(' ','').split('-')\n",
    "        minSalary.append(int(minMax[0]))\n",
    "        maxSalary.append(int(minMax[1]))\n",
    "    else:\n",
    "        minMax=row.replace(' ','').split('Do')\n",
    "        minSalary.append(0)\n",
    "        maxSalary.append(int(minMax[1]))\n",
    "df['MinSalary']=minSalary\n",
    "df['MaxSalary']=maxSalary"
   ]
  },
  {
   "cell_type": "code",
   "execution_count": 69,
   "metadata": {},
   "outputs": [
    {
     "data": {
      "text/html": [
       "<div>\n",
       "<style scoped>\n",
       "    .dataframe tbody tr th:only-of-type {\n",
       "        vertical-align: middle;\n",
       "    }\n",
       "\n",
       "    .dataframe tbody tr th {\n",
       "        vertical-align: top;\n",
       "    }\n",
       "\n",
       "    .dataframe thead th {\n",
       "        text-align: right;\n",
       "    }\n",
       "</style>\n",
       "<table border=\"1\" class=\"dataframe\">\n",
       "  <thead>\n",
       "    <tr style=\"text-align: right;\">\n",
       "      <th></th>\n",
       "      <th>Company</th>\n",
       "      <th>Job title</th>\n",
       "      <th>Location</th>\n",
       "      <th>Salary (PLN)</th>\n",
       "      <th>MinSalary</th>\n",
       "      <th>MaxSalary</th>\n",
       "    </tr>\n",
       "  </thead>\n",
       "  <tbody>\n",
       "    <tr>\n",
       "      <th>0</th>\n",
       "      <td>Applause</td>\n",
       "      <td>DEVOPS SOFTWARE ENGINEER</td>\n",
       "      <td>Warszawa</td>\n",
       "      <td>15 000 - 20 000</td>\n",
       "      <td>15000</td>\n",
       "      <td>20000</td>\n",
       "    </tr>\n",
       "    <tr>\n",
       "      <th>1</th>\n",
       "      <td>j-labs sp. z o.o.</td>\n",
       "      <td>BACKEND DEVELOPER (JAVA)</td>\n",
       "      <td>Kraków</td>\n",
       "      <td>12 000 - 19 000</td>\n",
       "      <td>12000</td>\n",
       "      <td>19000</td>\n",
       "    </tr>\n",
       "    <tr>\n",
       "      <th>2</th>\n",
       "      <td>Codemachine</td>\n",
       "      <td>FRONT-END DEVELOPER</td>\n",
       "      <td>Wrocław</td>\n",
       "      <td>12 000 - 16 000</td>\n",
       "      <td>12000</td>\n",
       "      <td>16000</td>\n",
       "    </tr>\n",
       "    <tr>\n",
       "      <th>3</th>\n",
       "      <td>Brainhub Sp. z o.o.</td>\n",
       "      <td>GO DEVELOPER</td>\n",
       "      <td>Gliwice, Wrocław, Kraków, Warszawa, Bielsko-Biała</td>\n",
       "      <td>10 000 - 16 000</td>\n",
       "      <td>10000</td>\n",
       "      <td>16000</td>\n",
       "    </tr>\n",
       "    <tr>\n",
       "      <th>4</th>\n",
       "      <td>KRUK S.A.</td>\n",
       "      <td>.NET DEVELOPER</td>\n",
       "      <td>Wrocław</td>\n",
       "      <td>7 000 - 12 000</td>\n",
       "      <td>7000</td>\n",
       "      <td>12000</td>\n",
       "    </tr>\n",
       "  </tbody>\n",
       "</table>\n",
       "</div>"
      ],
      "text/plain": [
       "               Company                 Job title  \\\n",
       "0             Applause  DEVOPS SOFTWARE ENGINEER   \n",
       "1    j-labs sp. z o.o.  BACKEND DEVELOPER (JAVA)   \n",
       "2          Codemachine       FRONT-END DEVELOPER   \n",
       "3  Brainhub Sp. z o.o.              GO DEVELOPER   \n",
       "4            KRUK S.A.            .NET DEVELOPER   \n",
       "\n",
       "                                            Location     Salary (PLN)  \\\n",
       "0                                           Warszawa  15 000 - 20 000   \n",
       "1                                             Kraków  12 000 - 19 000   \n",
       "2                                            Wrocław  12 000 - 16 000   \n",
       "3  Gliwice, Wrocław, Kraków, Warszawa, Bielsko-Biała  10 000 - 16 000   \n",
       "4                                            Wrocław   7 000 - 12 000   \n",
       "\n",
       "   MinSalary  MaxSalary  \n",
       "0      15000      20000  \n",
       "1      12000      19000  \n",
       "2      12000      16000  \n",
       "3      10000      16000  \n",
       "4       7000      12000  "
      ]
     },
     "execution_count": 69,
     "metadata": {},
     "output_type": "execute_result"
    }
   ],
   "source": [
    "df.head()"
   ]
  },
  {
   "cell_type": "markdown",
   "metadata": {},
   "source": [
    "## <center>Creating a new column called City, which will contain only the first city from Location column</center>\n"
   ]
  },
  {
   "cell_type": "code",
   "execution_count": 70,
   "metadata": {},
   "outputs": [],
   "source": [
    "city=[]\n",
    "\n",
    "for row in df['Location']:\n",
    "    if ',' in row:\n",
    "        cities=row.split(',')\n",
    "        city.append(cities[0])\n",
    "    else:\n",
    "        city.append(row)\n",
    "        \n",
    "df['City'] = city"
   ]
  },
  {
   "cell_type": "code",
   "execution_count": 71,
   "metadata": {},
   "outputs": [
    {
     "data": {
      "text/html": [
       "<div>\n",
       "<style scoped>\n",
       "    .dataframe tbody tr th:only-of-type {\n",
       "        vertical-align: middle;\n",
       "    }\n",
       "\n",
       "    .dataframe tbody tr th {\n",
       "        vertical-align: top;\n",
       "    }\n",
       "\n",
       "    .dataframe thead th {\n",
       "        text-align: right;\n",
       "    }\n",
       "</style>\n",
       "<table border=\"1\" class=\"dataframe\">\n",
       "  <thead>\n",
       "    <tr style=\"text-align: right;\">\n",
       "      <th></th>\n",
       "      <th>Company</th>\n",
       "      <th>Job title</th>\n",
       "      <th>Location</th>\n",
       "      <th>Salary (PLN)</th>\n",
       "      <th>MinSalary</th>\n",
       "      <th>MaxSalary</th>\n",
       "      <th>City</th>\n",
       "    </tr>\n",
       "  </thead>\n",
       "  <tbody>\n",
       "    <tr>\n",
       "      <th>0</th>\n",
       "      <td>Applause</td>\n",
       "      <td>DEVOPS SOFTWARE ENGINEER</td>\n",
       "      <td>Warszawa</td>\n",
       "      <td>15 000 - 20 000</td>\n",
       "      <td>15000</td>\n",
       "      <td>20000</td>\n",
       "      <td>Warszawa</td>\n",
       "    </tr>\n",
       "    <tr>\n",
       "      <th>1</th>\n",
       "      <td>j-labs sp. z o.o.</td>\n",
       "      <td>BACKEND DEVELOPER (JAVA)</td>\n",
       "      <td>Kraków</td>\n",
       "      <td>12 000 - 19 000</td>\n",
       "      <td>12000</td>\n",
       "      <td>19000</td>\n",
       "      <td>Kraków</td>\n",
       "    </tr>\n",
       "    <tr>\n",
       "      <th>2</th>\n",
       "      <td>Codemachine</td>\n",
       "      <td>FRONT-END DEVELOPER</td>\n",
       "      <td>Wrocław</td>\n",
       "      <td>12 000 - 16 000</td>\n",
       "      <td>12000</td>\n",
       "      <td>16000</td>\n",
       "      <td>Wrocław</td>\n",
       "    </tr>\n",
       "    <tr>\n",
       "      <th>3</th>\n",
       "      <td>Brainhub Sp. z o.o.</td>\n",
       "      <td>GO DEVELOPER</td>\n",
       "      <td>Gliwice, Wrocław, Kraków, Warszawa, Bielsko-Biała</td>\n",
       "      <td>10 000 - 16 000</td>\n",
       "      <td>10000</td>\n",
       "      <td>16000</td>\n",
       "      <td>Gliwice</td>\n",
       "    </tr>\n",
       "    <tr>\n",
       "      <th>4</th>\n",
       "      <td>KRUK S.A.</td>\n",
       "      <td>.NET DEVELOPER</td>\n",
       "      <td>Wrocław</td>\n",
       "      <td>7 000 - 12 000</td>\n",
       "      <td>7000</td>\n",
       "      <td>12000</td>\n",
       "      <td>Wrocław</td>\n",
       "    </tr>\n",
       "  </tbody>\n",
       "</table>\n",
       "</div>"
      ],
      "text/plain": [
       "               Company                 Job title  \\\n",
       "0             Applause  DEVOPS SOFTWARE ENGINEER   \n",
       "1    j-labs sp. z o.o.  BACKEND DEVELOPER (JAVA)   \n",
       "2          Codemachine       FRONT-END DEVELOPER   \n",
       "3  Brainhub Sp. z o.o.              GO DEVELOPER   \n",
       "4            KRUK S.A.            .NET DEVELOPER   \n",
       "\n",
       "                                            Location     Salary (PLN)  \\\n",
       "0                                           Warszawa  15 000 - 20 000   \n",
       "1                                             Kraków  12 000 - 19 000   \n",
       "2                                            Wrocław  12 000 - 16 000   \n",
       "3  Gliwice, Wrocław, Kraków, Warszawa, Bielsko-Biała  10 000 - 16 000   \n",
       "4                                            Wrocław   7 000 - 12 000   \n",
       "\n",
       "   MinSalary  MaxSalary      City  \n",
       "0      15000      20000  Warszawa  \n",
       "1      12000      19000    Kraków  \n",
       "2      12000      16000   Wrocław  \n",
       "3      10000      16000   Gliwice  \n",
       "4       7000      12000   Wrocław  "
      ]
     },
     "execution_count": 71,
     "metadata": {},
     "output_type": "execute_result"
    }
   ],
   "source": [
    "df.head()"
   ]
  },
  {
   "cell_type": "markdown",
   "metadata": {},
   "source": [
    "*The above script is to exclude cities in rows with more than one city. For the purposes of this analysis, I assume that if the company provides the location of the offer in more than one city, the candidate can choose only one job anyway, so by default the first city from all of the above-mentioned*\n"
   ]
  },
  {
   "cell_type": "markdown",
   "metadata": {},
   "source": [
    "## <center>Creating a job category in a new Job_category column</center>"
   ]
  },
  {
   "cell_type": "code",
   "execution_count": 72,
   "metadata": {},
   "outputs": [],
   "source": [
    "job_category=[]\n",
    "\n",
    "for row in df['Job title']:\n",
    "    if 'JAVA' in row or 'PHP' in row or 'SCALA/SPARK' in row or 'GUIDEWIRE' in row or 'GRADUATE' in row or 'ELIXIR' in row or 'SYMFONY' in row or 'PYTHON' in row or 'LARAVEL' in row or '.NET' in row or 'C++' in row or 'COBOL' in row or 'C#' in row or 'NODE.JS' in row or 'RUBY' in row:\n",
    "        job_category.append('Back-End')\n",
    "        \n",
    "    elif 'FULLSTACK' in row or 'FULL STACK' in row:\n",
    "        job_category.append('FullStack')\n",
    "    \n",
    "    elif 'DEVOPS' in row:\n",
    "        job_category.append('DevOps')\n",
    "    \n",
    "    elif 'FRONT-END' in row or 'FRONTEND' in row or 'REACT' in row or 'CSS' in row or 'HTML' in row or 'JAVASCRIPT' in row:\n",
    "        job_category.append('Front-End')\n",
    "    \n",
    "    elif 'SUPPORT' in row:\n",
    "        job_category.append('Support')\n",
    "    \n",
    "    elif 'ADMINISTRATOR' in row:\n",
    "        job_category.append('Administrator')\n",
    "        \n",
    "    elif 'ANALITYK' in row or 'ANALYST' in row:\n",
    "        job_category.append('Analyst')\n",
    "    \n",
    "    elif 'TEST' in row or 'TESTER' in row:\n",
    "        job_category.append('Tester')\n",
    "  \n",
    "    else:\n",
    "        job_category.append('Other')\n",
    "              \n",
    "df['Job_category']=job_category"
   ]
  },
  {
   "cell_type": "markdown",
   "metadata": {},
   "source": [
    "*The above solution is not ideal, but it is sufficient for the analysis below. It should be taken into account that this solution is not entirely reliable*\n"
   ]
  },
  {
   "cell_type": "code",
   "execution_count": 73,
   "metadata": {},
   "outputs": [
    {
     "data": {
      "text/html": [
       "<div>\n",
       "<style scoped>\n",
       "    .dataframe tbody tr th:only-of-type {\n",
       "        vertical-align: middle;\n",
       "    }\n",
       "\n",
       "    .dataframe tbody tr th {\n",
       "        vertical-align: top;\n",
       "    }\n",
       "\n",
       "    .dataframe thead th {\n",
       "        text-align: right;\n",
       "    }\n",
       "</style>\n",
       "<table border=\"1\" class=\"dataframe\">\n",
       "  <thead>\n",
       "    <tr style=\"text-align: right;\">\n",
       "      <th></th>\n",
       "      <th>Company</th>\n",
       "      <th>Job title</th>\n",
       "      <th>Location</th>\n",
       "      <th>Salary (PLN)</th>\n",
       "      <th>MinSalary</th>\n",
       "      <th>MaxSalary</th>\n",
       "      <th>City</th>\n",
       "      <th>Job_category</th>\n",
       "    </tr>\n",
       "  </thead>\n",
       "  <tbody>\n",
       "    <tr>\n",
       "      <th>0</th>\n",
       "      <td>Applause</td>\n",
       "      <td>DEVOPS SOFTWARE ENGINEER</td>\n",
       "      <td>Warszawa</td>\n",
       "      <td>15 000 - 20 000</td>\n",
       "      <td>15000</td>\n",
       "      <td>20000</td>\n",
       "      <td>Warszawa</td>\n",
       "      <td>DevOps</td>\n",
       "    </tr>\n",
       "    <tr>\n",
       "      <th>1</th>\n",
       "      <td>j-labs sp. z o.o.</td>\n",
       "      <td>BACKEND DEVELOPER (JAVA)</td>\n",
       "      <td>Kraków</td>\n",
       "      <td>12 000 - 19 000</td>\n",
       "      <td>12000</td>\n",
       "      <td>19000</td>\n",
       "      <td>Kraków</td>\n",
       "      <td>Back-End</td>\n",
       "    </tr>\n",
       "    <tr>\n",
       "      <th>2</th>\n",
       "      <td>Codemachine</td>\n",
       "      <td>FRONT-END DEVELOPER</td>\n",
       "      <td>Wrocław</td>\n",
       "      <td>12 000 - 16 000</td>\n",
       "      <td>12000</td>\n",
       "      <td>16000</td>\n",
       "      <td>Wrocław</td>\n",
       "      <td>Front-End</td>\n",
       "    </tr>\n",
       "    <tr>\n",
       "      <th>3</th>\n",
       "      <td>Brainhub Sp. z o.o.</td>\n",
       "      <td>GO DEVELOPER</td>\n",
       "      <td>Gliwice, Wrocław, Kraków, Warszawa, Bielsko-Biała</td>\n",
       "      <td>10 000 - 16 000</td>\n",
       "      <td>10000</td>\n",
       "      <td>16000</td>\n",
       "      <td>Gliwice</td>\n",
       "      <td>Other</td>\n",
       "    </tr>\n",
       "    <tr>\n",
       "      <th>4</th>\n",
       "      <td>KRUK S.A.</td>\n",
       "      <td>.NET DEVELOPER</td>\n",
       "      <td>Wrocław</td>\n",
       "      <td>7 000 - 12 000</td>\n",
       "      <td>7000</td>\n",
       "      <td>12000</td>\n",
       "      <td>Wrocław</td>\n",
       "      <td>Back-End</td>\n",
       "    </tr>\n",
       "  </tbody>\n",
       "</table>\n",
       "</div>"
      ],
      "text/plain": [
       "               Company                 Job title  \\\n",
       "0             Applause  DEVOPS SOFTWARE ENGINEER   \n",
       "1    j-labs sp. z o.o.  BACKEND DEVELOPER (JAVA)   \n",
       "2          Codemachine       FRONT-END DEVELOPER   \n",
       "3  Brainhub Sp. z o.o.              GO DEVELOPER   \n",
       "4            KRUK S.A.            .NET DEVELOPER   \n",
       "\n",
       "                                            Location     Salary (PLN)  \\\n",
       "0                                           Warszawa  15 000 - 20 000   \n",
       "1                                             Kraków  12 000 - 19 000   \n",
       "2                                            Wrocław  12 000 - 16 000   \n",
       "3  Gliwice, Wrocław, Kraków, Warszawa, Bielsko-Biała  10 000 - 16 000   \n",
       "4                                            Wrocław   7 000 - 12 000   \n",
       "\n",
       "   MinSalary  MaxSalary      City Job_category  \n",
       "0      15000      20000  Warszawa       DevOps  \n",
       "1      12000      19000    Kraków     Back-End  \n",
       "2      12000      16000   Wrocław    Front-End  \n",
       "3      10000      16000   Gliwice        Other  \n",
       "4       7000      12000   Wrocław     Back-End  "
      ]
     },
     "execution_count": 73,
     "metadata": {},
     "output_type": "execute_result"
    }
   ],
   "source": [
    "df.head()"
   ]
  },
  {
   "cell_type": "code",
   "execution_count": 74,
   "metadata": {},
   "outputs": [
    {
     "data": {
      "text/plain": [
       "Back-End         118\n",
       "Other             41\n",
       "Front-End         24\n",
       "DevOps            17\n",
       "FullStack          7\n",
       "Administrator      5\n",
       "Analyst            5\n",
       "Tester             3\n",
       "Support            2\n",
       "Name: Job_category, dtype: int64"
      ]
     },
     "execution_count": 74,
     "metadata": {},
     "output_type": "execute_result"
    }
   ],
   "source": [
    "df['Job_category'].value_counts()"
   ]
  },
  {
   "cell_type": "markdown",
   "metadata": {},
   "source": [
    "## <center> Removing an unnecessary column and changing the words \"zdalnie\" to \"remotely\" in the City column for data consistency</center>"
   ]
  },
  {
   "cell_type": "code",
   "execution_count": 75,
   "metadata": {},
   "outputs": [],
   "source": [
    "del df['Location']"
   ]
  },
  {
   "cell_type": "code",
   "execution_count": 76,
   "metadata": {},
   "outputs": [
    {
     "name": "stderr",
     "output_type": "stream",
     "text": [
      "C:\\ProgramData\\Anaconda3\\lib\\site-packages\\ipykernel_launcher.py:2: SettingWithCopyWarning: \n",
      "A value is trying to be set on a copy of a slice from a DataFrame\n",
      "\n",
      "See the caveats in the documentation: https://pandas.pydata.org/pandas-docs/stable/user_guide/indexing.html#returning-a-view-versus-a-copy\n",
      "  \n"
     ]
    }
   ],
   "source": [
    "filter = df['City'] == 'Zdalnie'\n",
    "df['City'][filter] = 'Remotely'"
   ]
  },
  {
   "cell_type": "code",
   "execution_count": 77,
   "metadata": {},
   "outputs": [
    {
     "data": {
      "text/html": [
       "<div>\n",
       "<style scoped>\n",
       "    .dataframe tbody tr th:only-of-type {\n",
       "        vertical-align: middle;\n",
       "    }\n",
       "\n",
       "    .dataframe tbody tr th {\n",
       "        vertical-align: top;\n",
       "    }\n",
       "\n",
       "    .dataframe thead th {\n",
       "        text-align: right;\n",
       "    }\n",
       "</style>\n",
       "<table border=\"1\" class=\"dataframe\">\n",
       "  <thead>\n",
       "    <tr style=\"text-align: right;\">\n",
       "      <th></th>\n",
       "      <th>Company</th>\n",
       "      <th>Job title</th>\n",
       "      <th>Salary (PLN)</th>\n",
       "      <th>MinSalary</th>\n",
       "      <th>MaxSalary</th>\n",
       "      <th>City</th>\n",
       "      <th>Job_category</th>\n",
       "    </tr>\n",
       "  </thead>\n",
       "  <tbody>\n",
       "    <tr>\n",
       "      <th>0</th>\n",
       "      <td>Applause</td>\n",
       "      <td>DEVOPS SOFTWARE ENGINEER</td>\n",
       "      <td>15 000 - 20 000</td>\n",
       "      <td>15000</td>\n",
       "      <td>20000</td>\n",
       "      <td>Warszawa</td>\n",
       "      <td>DevOps</td>\n",
       "    </tr>\n",
       "    <tr>\n",
       "      <th>1</th>\n",
       "      <td>j-labs sp. z o.o.</td>\n",
       "      <td>BACKEND DEVELOPER (JAVA)</td>\n",
       "      <td>12 000 - 19 000</td>\n",
       "      <td>12000</td>\n",
       "      <td>19000</td>\n",
       "      <td>Kraków</td>\n",
       "      <td>Back-End</td>\n",
       "    </tr>\n",
       "    <tr>\n",
       "      <th>2</th>\n",
       "      <td>Codemachine</td>\n",
       "      <td>FRONT-END DEVELOPER</td>\n",
       "      <td>12 000 - 16 000</td>\n",
       "      <td>12000</td>\n",
       "      <td>16000</td>\n",
       "      <td>Wrocław</td>\n",
       "      <td>Front-End</td>\n",
       "    </tr>\n",
       "    <tr>\n",
       "      <th>3</th>\n",
       "      <td>Brainhub Sp. z o.o.</td>\n",
       "      <td>GO DEVELOPER</td>\n",
       "      <td>10 000 - 16 000</td>\n",
       "      <td>10000</td>\n",
       "      <td>16000</td>\n",
       "      <td>Gliwice</td>\n",
       "      <td>Other</td>\n",
       "    </tr>\n",
       "    <tr>\n",
       "      <th>4</th>\n",
       "      <td>KRUK S.A.</td>\n",
       "      <td>.NET DEVELOPER</td>\n",
       "      <td>7 000 - 12 000</td>\n",
       "      <td>7000</td>\n",
       "      <td>12000</td>\n",
       "      <td>Wrocław</td>\n",
       "      <td>Back-End</td>\n",
       "    </tr>\n",
       "    <tr>\n",
       "      <th>5</th>\n",
       "      <td>PWPW - Polska Wytwórnia Papierów Wartościowych...</td>\n",
       "      <td>PROGRAMISTA .NET</td>\n",
       "      <td>12 800 - 16 000</td>\n",
       "      <td>12800</td>\n",
       "      <td>16000</td>\n",
       "      <td>Warszawa</td>\n",
       "      <td>Back-End</td>\n",
       "    </tr>\n",
       "    <tr>\n",
       "      <th>6</th>\n",
       "      <td>Be | Shaping the Future Poland</td>\n",
       "      <td>CITRIX ENGINEER</td>\n",
       "      <td>15 000 - 23 500</td>\n",
       "      <td>15000</td>\n",
       "      <td>23500</td>\n",
       "      <td>Warszawa</td>\n",
       "      <td>Other</td>\n",
       "    </tr>\n",
       "    <tr>\n",
       "      <th>7</th>\n",
       "      <td>JCommerce</td>\n",
       "      <td>SENIOR .NET DEVELOPER | FULL-STACK</td>\n",
       "      <td>Do 19 000</td>\n",
       "      <td>0</td>\n",
       "      <td>19000</td>\n",
       "      <td>Katowice</td>\n",
       "      <td>Back-End</td>\n",
       "    </tr>\n",
       "    <tr>\n",
       "      <th>8</th>\n",
       "      <td>AppUnite</td>\n",
       "      <td>NODE.JS DEVELOPER</td>\n",
       "      <td>12 000 - 16 000</td>\n",
       "      <td>12000</td>\n",
       "      <td>16000</td>\n",
       "      <td>Remotely</td>\n",
       "      <td>Back-End</td>\n",
       "    </tr>\n",
       "    <tr>\n",
       "      <th>9</th>\n",
       "      <td>Codest LTD.</td>\n",
       "      <td>MID/SENIOR RUBY DEVELOPER</td>\n",
       "      <td>8 000 - 16 000</td>\n",
       "      <td>8000</td>\n",
       "      <td>16000</td>\n",
       "      <td>Kraków</td>\n",
       "      <td>Back-End</td>\n",
       "    </tr>\n",
       "  </tbody>\n",
       "</table>\n",
       "</div>"
      ],
      "text/plain": [
       "                                             Company  \\\n",
       "0                                           Applause   \n",
       "1                                  j-labs sp. z o.o.   \n",
       "2                                        Codemachine   \n",
       "3                                Brainhub Sp. z o.o.   \n",
       "4                                          KRUK S.A.   \n",
       "5  PWPW - Polska Wytwórnia Papierów Wartościowych...   \n",
       "6                     Be | Shaping the Future Poland   \n",
       "7                                          JCommerce   \n",
       "8                                           AppUnite   \n",
       "9                                        Codest LTD.   \n",
       "\n",
       "                            Job title     Salary (PLN)  MinSalary  MaxSalary  \\\n",
       "0            DEVOPS SOFTWARE ENGINEER  15 000 - 20 000      15000      20000   \n",
       "1            BACKEND DEVELOPER (JAVA)  12 000 - 19 000      12000      19000   \n",
       "2                 FRONT-END DEVELOPER  12 000 - 16 000      12000      16000   \n",
       "3                        GO DEVELOPER  10 000 - 16 000      10000      16000   \n",
       "4                      .NET DEVELOPER   7 000 - 12 000       7000      12000   \n",
       "5                    PROGRAMISTA .NET  12 800 - 16 000      12800      16000   \n",
       "6                     CITRIX ENGINEER  15 000 - 23 500      15000      23500   \n",
       "7  SENIOR .NET DEVELOPER | FULL-STACK        Do 19 000          0      19000   \n",
       "8                   NODE.JS DEVELOPER  12 000 - 16 000      12000      16000   \n",
       "9           MID/SENIOR RUBY DEVELOPER   8 000 - 16 000       8000      16000   \n",
       "\n",
       "       City Job_category  \n",
       "0  Warszawa       DevOps  \n",
       "1    Kraków     Back-End  \n",
       "2   Wrocław    Front-End  \n",
       "3   Gliwice        Other  \n",
       "4   Wrocław     Back-End  \n",
       "5  Warszawa     Back-End  \n",
       "6  Warszawa        Other  \n",
       "7  Katowice     Back-End  \n",
       "8  Remotely     Back-End  \n",
       "9    Kraków     Back-End  "
      ]
     },
     "execution_count": 77,
     "metadata": {},
     "output_type": "execute_result"
    }
   ],
   "source": [
    "df.head(10)"
   ]
  },
  {
   "cell_type": "code",
   "execution_count": 78,
   "metadata": {},
   "outputs": [],
   "source": [
    "df['City'] = df['City'].astype('category')"
   ]
  },
  {
   "cell_type": "markdown",
   "metadata": {},
   "source": [
    "## <center>Replace zero values with the mean value in the MinSalars column</center>"
   ]
  },
  {
   "cell_type": "code",
   "execution_count": 79,
   "metadata": {},
   "outputs": [
    {
     "data": {
      "text/plain": [
       "9280.18018018018"
      ]
     },
     "execution_count": 79,
     "metadata": {},
     "output_type": "execute_result"
    }
   ],
   "source": [
    "df['MinSalary'].mean()"
   ]
  },
  {
   "cell_type": "code",
   "execution_count": 80,
   "metadata": {},
   "outputs": [],
   "source": [
    "filter_salary_0 = df['MinSalary'] == 0"
   ]
  },
  {
   "cell_type": "code",
   "execution_count": 81,
   "metadata": {},
   "outputs": [
    {
     "name": "stderr",
     "output_type": "stream",
     "text": [
      "C:\\ProgramData\\Anaconda3\\lib\\site-packages\\ipykernel_launcher.py:1: SettingWithCopyWarning: \n",
      "A value is trying to be set on a copy of a slice from a DataFrame\n",
      "\n",
      "See the caveats in the documentation: https://pandas.pydata.org/pandas-docs/stable/user_guide/indexing.html#returning-a-view-versus-a-copy\n",
      "  \"\"\"Entry point for launching an IPython kernel.\n"
     ]
    }
   ],
   "source": [
    "df['MinSalary'][filter_salary_0] = round(df['MinSalary'].mean(),0)"
   ]
  },
  {
   "cell_type": "code",
   "execution_count": 82,
   "metadata": {
    "scrolled": false
   },
   "outputs": [
    {
     "data": {
      "text/html": [
       "<div>\n",
       "<style scoped>\n",
       "    .dataframe tbody tr th:only-of-type {\n",
       "        vertical-align: middle;\n",
       "    }\n",
       "\n",
       "    .dataframe tbody tr th {\n",
       "        vertical-align: top;\n",
       "    }\n",
       "\n",
       "    .dataframe thead th {\n",
       "        text-align: right;\n",
       "    }\n",
       "</style>\n",
       "<table border=\"1\" class=\"dataframe\">\n",
       "  <thead>\n",
       "    <tr style=\"text-align: right;\">\n",
       "      <th></th>\n",
       "      <th>Company</th>\n",
       "      <th>Job title</th>\n",
       "      <th>Salary (PLN)</th>\n",
       "      <th>MinSalary</th>\n",
       "      <th>MaxSalary</th>\n",
       "      <th>City</th>\n",
       "      <th>Job_category</th>\n",
       "    </tr>\n",
       "  </thead>\n",
       "  <tbody>\n",
       "    <tr>\n",
       "      <th>0</th>\n",
       "      <td>Applause</td>\n",
       "      <td>DEVOPS SOFTWARE ENGINEER</td>\n",
       "      <td>15 000 - 20 000</td>\n",
       "      <td>15000</td>\n",
       "      <td>20000</td>\n",
       "      <td>Warszawa</td>\n",
       "      <td>DevOps</td>\n",
       "    </tr>\n",
       "    <tr>\n",
       "      <th>1</th>\n",
       "      <td>j-labs sp. z o.o.</td>\n",
       "      <td>BACKEND DEVELOPER (JAVA)</td>\n",
       "      <td>12 000 - 19 000</td>\n",
       "      <td>12000</td>\n",
       "      <td>19000</td>\n",
       "      <td>Kraków</td>\n",
       "      <td>Back-End</td>\n",
       "    </tr>\n",
       "    <tr>\n",
       "      <th>2</th>\n",
       "      <td>Codemachine</td>\n",
       "      <td>FRONT-END DEVELOPER</td>\n",
       "      <td>12 000 - 16 000</td>\n",
       "      <td>12000</td>\n",
       "      <td>16000</td>\n",
       "      <td>Wrocław</td>\n",
       "      <td>Front-End</td>\n",
       "    </tr>\n",
       "    <tr>\n",
       "      <th>3</th>\n",
       "      <td>Brainhub Sp. z o.o.</td>\n",
       "      <td>GO DEVELOPER</td>\n",
       "      <td>10 000 - 16 000</td>\n",
       "      <td>10000</td>\n",
       "      <td>16000</td>\n",
       "      <td>Gliwice</td>\n",
       "      <td>Other</td>\n",
       "    </tr>\n",
       "    <tr>\n",
       "      <th>4</th>\n",
       "      <td>KRUK S.A.</td>\n",
       "      <td>.NET DEVELOPER</td>\n",
       "      <td>7 000 - 12 000</td>\n",
       "      <td>7000</td>\n",
       "      <td>12000</td>\n",
       "      <td>Wrocław</td>\n",
       "      <td>Back-End</td>\n",
       "    </tr>\n",
       "    <tr>\n",
       "      <th>5</th>\n",
       "      <td>PWPW - Polska Wytwórnia Papierów Wartościowych...</td>\n",
       "      <td>PROGRAMISTA .NET</td>\n",
       "      <td>12 800 - 16 000</td>\n",
       "      <td>12800</td>\n",
       "      <td>16000</td>\n",
       "      <td>Warszawa</td>\n",
       "      <td>Back-End</td>\n",
       "    </tr>\n",
       "    <tr>\n",
       "      <th>6</th>\n",
       "      <td>Be | Shaping the Future Poland</td>\n",
       "      <td>CITRIX ENGINEER</td>\n",
       "      <td>15 000 - 23 500</td>\n",
       "      <td>15000</td>\n",
       "      <td>23500</td>\n",
       "      <td>Warszawa</td>\n",
       "      <td>Other</td>\n",
       "    </tr>\n",
       "    <tr>\n",
       "      <th>7</th>\n",
       "      <td>JCommerce</td>\n",
       "      <td>SENIOR .NET DEVELOPER | FULL-STACK</td>\n",
       "      <td>Do 19 000</td>\n",
       "      <td>9280</td>\n",
       "      <td>19000</td>\n",
       "      <td>Katowice</td>\n",
       "      <td>Back-End</td>\n",
       "    </tr>\n",
       "    <tr>\n",
       "      <th>8</th>\n",
       "      <td>AppUnite</td>\n",
       "      <td>NODE.JS DEVELOPER</td>\n",
       "      <td>12 000 - 16 000</td>\n",
       "      <td>12000</td>\n",
       "      <td>16000</td>\n",
       "      <td>Remotely</td>\n",
       "      <td>Back-End</td>\n",
       "    </tr>\n",
       "    <tr>\n",
       "      <th>9</th>\n",
       "      <td>Codest LTD.</td>\n",
       "      <td>MID/SENIOR RUBY DEVELOPER</td>\n",
       "      <td>8 000 - 16 000</td>\n",
       "      <td>8000</td>\n",
       "      <td>16000</td>\n",
       "      <td>Kraków</td>\n",
       "      <td>Back-End</td>\n",
       "    </tr>\n",
       "  </tbody>\n",
       "</table>\n",
       "</div>"
      ],
      "text/plain": [
       "                                             Company  \\\n",
       "0                                           Applause   \n",
       "1                                  j-labs sp. z o.o.   \n",
       "2                                        Codemachine   \n",
       "3                                Brainhub Sp. z o.o.   \n",
       "4                                          KRUK S.A.   \n",
       "5  PWPW - Polska Wytwórnia Papierów Wartościowych...   \n",
       "6                     Be | Shaping the Future Poland   \n",
       "7                                          JCommerce   \n",
       "8                                           AppUnite   \n",
       "9                                        Codest LTD.   \n",
       "\n",
       "                            Job title     Salary (PLN)  MinSalary  MaxSalary  \\\n",
       "0            DEVOPS SOFTWARE ENGINEER  15 000 - 20 000      15000      20000   \n",
       "1            BACKEND DEVELOPER (JAVA)  12 000 - 19 000      12000      19000   \n",
       "2                 FRONT-END DEVELOPER  12 000 - 16 000      12000      16000   \n",
       "3                        GO DEVELOPER  10 000 - 16 000      10000      16000   \n",
       "4                      .NET DEVELOPER   7 000 - 12 000       7000      12000   \n",
       "5                    PROGRAMISTA .NET  12 800 - 16 000      12800      16000   \n",
       "6                     CITRIX ENGINEER  15 000 - 23 500      15000      23500   \n",
       "7  SENIOR .NET DEVELOPER | FULL-STACK        Do 19 000       9280      19000   \n",
       "8                   NODE.JS DEVELOPER  12 000 - 16 000      12000      16000   \n",
       "9           MID/SENIOR RUBY DEVELOPER   8 000 - 16 000       8000      16000   \n",
       "\n",
       "       City Job_category  \n",
       "0  Warszawa       DevOps  \n",
       "1    Kraków     Back-End  \n",
       "2   Wrocław    Front-End  \n",
       "3   Gliwice        Other  \n",
       "4   Wrocław     Back-End  \n",
       "5  Warszawa     Back-End  \n",
       "6  Warszawa        Other  \n",
       "7  Katowice     Back-End  \n",
       "8  Remotely     Back-End  \n",
       "9    Kraków     Back-End  "
      ]
     },
     "execution_count": 82,
     "metadata": {},
     "output_type": "execute_result"
    }
   ],
   "source": [
    "df.head(10)"
   ]
  },
  {
   "cell_type": "markdown",
   "metadata": {},
   "source": [
    "## <center>Added new Salary_avg column with information about average salary</center>"
   ]
  },
  {
   "cell_type": "code",
   "execution_count": 83,
   "metadata": {},
   "outputs": [],
   "source": [
    "df['Salary_avg'] = (df['MinSalary']+df['MaxSalary'])/2"
   ]
  },
  {
   "cell_type": "code",
   "execution_count": 84,
   "metadata": {},
   "outputs": [
    {
     "name": "stdout",
     "output_type": "stream",
     "text": [
      "<class 'pandas.core.frame.DataFrame'>\n",
      "RangeIndex: 222 entries, 0 to 221\n",
      "Data columns (total 8 columns):\n",
      " #   Column        Non-Null Count  Dtype   \n",
      "---  ------        --------------  -----   \n",
      " 0   Company       222 non-null    object  \n",
      " 1   Job title     222 non-null    object  \n",
      " 2   Salary (PLN)  222 non-null    object  \n",
      " 3   MinSalary     222 non-null    int64   \n",
      " 4   MaxSalary     222 non-null    int64   \n",
      " 5   City          222 non-null    category\n",
      " 6   Job_category  222 non-null    object  \n",
      " 7   Salary_avg    222 non-null    float64 \n",
      "dtypes: category(1), float64(1), int64(2), object(4)\n",
      "memory usage: 9.4+ KB\n"
     ]
    }
   ],
   "source": [
    "df.info()"
   ]
  },
  {
   "cell_type": "code",
   "execution_count": 85,
   "metadata": {},
   "outputs": [
    {
     "data": {
      "text/html": [
       "<div>\n",
       "<style scoped>\n",
       "    .dataframe tbody tr th:only-of-type {\n",
       "        vertical-align: middle;\n",
       "    }\n",
       "\n",
       "    .dataframe tbody tr th {\n",
       "        vertical-align: top;\n",
       "    }\n",
       "\n",
       "    .dataframe thead th {\n",
       "        text-align: right;\n",
       "    }\n",
       "</style>\n",
       "<table border=\"1\" class=\"dataframe\">\n",
       "  <thead>\n",
       "    <tr style=\"text-align: right;\">\n",
       "      <th></th>\n",
       "      <th>Company</th>\n",
       "      <th>Job title</th>\n",
       "      <th>Salary (PLN)</th>\n",
       "      <th>MinSalary</th>\n",
       "      <th>MaxSalary</th>\n",
       "      <th>City</th>\n",
       "      <th>Job_category</th>\n",
       "      <th>Salary_avg</th>\n",
       "    </tr>\n",
       "  </thead>\n",
       "  <tbody>\n",
       "    <tr>\n",
       "      <th>0</th>\n",
       "      <td>Applause</td>\n",
       "      <td>DEVOPS SOFTWARE ENGINEER</td>\n",
       "      <td>15 000 - 20 000</td>\n",
       "      <td>15000</td>\n",
       "      <td>20000</td>\n",
       "      <td>Warszawa</td>\n",
       "      <td>DevOps</td>\n",
       "      <td>17500.0</td>\n",
       "    </tr>\n",
       "    <tr>\n",
       "      <th>1</th>\n",
       "      <td>j-labs sp. z o.o.</td>\n",
       "      <td>BACKEND DEVELOPER (JAVA)</td>\n",
       "      <td>12 000 - 19 000</td>\n",
       "      <td>12000</td>\n",
       "      <td>19000</td>\n",
       "      <td>Kraków</td>\n",
       "      <td>Back-End</td>\n",
       "      <td>15500.0</td>\n",
       "    </tr>\n",
       "    <tr>\n",
       "      <th>2</th>\n",
       "      <td>Codemachine</td>\n",
       "      <td>FRONT-END DEVELOPER</td>\n",
       "      <td>12 000 - 16 000</td>\n",
       "      <td>12000</td>\n",
       "      <td>16000</td>\n",
       "      <td>Wrocław</td>\n",
       "      <td>Front-End</td>\n",
       "      <td>14000.0</td>\n",
       "    </tr>\n",
       "    <tr>\n",
       "      <th>3</th>\n",
       "      <td>Brainhub Sp. z o.o.</td>\n",
       "      <td>GO DEVELOPER</td>\n",
       "      <td>10 000 - 16 000</td>\n",
       "      <td>10000</td>\n",
       "      <td>16000</td>\n",
       "      <td>Gliwice</td>\n",
       "      <td>Other</td>\n",
       "      <td>13000.0</td>\n",
       "    </tr>\n",
       "    <tr>\n",
       "      <th>4</th>\n",
       "      <td>KRUK S.A.</td>\n",
       "      <td>.NET DEVELOPER</td>\n",
       "      <td>7 000 - 12 000</td>\n",
       "      <td>7000</td>\n",
       "      <td>12000</td>\n",
       "      <td>Wrocław</td>\n",
       "      <td>Back-End</td>\n",
       "      <td>9500.0</td>\n",
       "    </tr>\n",
       "  </tbody>\n",
       "</table>\n",
       "</div>"
      ],
      "text/plain": [
       "               Company                 Job title     Salary (PLN)  MinSalary  \\\n",
       "0             Applause  DEVOPS SOFTWARE ENGINEER  15 000 - 20 000      15000   \n",
       "1    j-labs sp. z o.o.  BACKEND DEVELOPER (JAVA)  12 000 - 19 000      12000   \n",
       "2          Codemachine       FRONT-END DEVELOPER  12 000 - 16 000      12000   \n",
       "3  Brainhub Sp. z o.o.              GO DEVELOPER  10 000 - 16 000      10000   \n",
       "4            KRUK S.A.            .NET DEVELOPER   7 000 - 12 000       7000   \n",
       "\n",
       "   MaxSalary      City Job_category  Salary_avg  \n",
       "0      20000  Warszawa       DevOps     17500.0  \n",
       "1      19000    Kraków     Back-End     15500.0  \n",
       "2      16000   Wrocław    Front-End     14000.0  \n",
       "3      16000   Gliwice        Other     13000.0  \n",
       "4      12000   Wrocław     Back-End      9500.0  "
      ]
     },
     "execution_count": 85,
     "metadata": {},
     "output_type": "execute_result"
    }
   ],
   "source": [
    "df.head()"
   ]
  },
  {
   "cell_type": "markdown",
   "metadata": {},
   "source": [
    "## <center>Removing cities from outside Poland</center>"
   ]
  },
  {
   "cell_type": "code",
   "execution_count": 86,
   "metadata": {},
   "outputs": [
    {
     "data": {
      "text/plain": [
       "Warszawa         68\n",
       "Kraków           33\n",
       "Remotely         28\n",
       "Wrocław          19\n",
       "Gdańsk           16\n",
       "Katowice         13\n",
       "Łódź             13\n",
       "Białystok         8\n",
       "Poznań            7\n",
       "Lublin            4\n",
       "Gliwice           3\n",
       "Zabrze            2\n",
       "Monachium         1\n",
       "Mikołów           1\n",
       "Kowale            1\n",
       "Kielce            1\n",
       "Gdynia            1\n",
       "Rzeszów           1\n",
       "Cieszyn           1\n",
       "Bielsko-Biała     1\n",
       "Name: City, dtype: int64"
      ]
     },
     "execution_count": 86,
     "metadata": {},
     "output_type": "execute_result"
    }
   ],
   "source": [
    "df['City'].value_counts()"
   ]
  },
  {
   "cell_type": "code",
   "execution_count": 87,
   "metadata": {},
   "outputs": [],
   "source": [
    "filter = df['City'] == 'Monachium'\n",
    "df.drop(df.index[filter], inplace=True)"
   ]
  },
  {
   "cell_type": "markdown",
   "metadata": {},
   "source": [
    "## <center>Number of job offers in each city</center>"
   ]
  },
  {
   "cell_type": "code",
   "execution_count": 88,
   "metadata": {},
   "outputs": [],
   "source": [
    "%matplotlib inline"
   ]
  },
  {
   "cell_type": "code",
   "execution_count": 89,
   "metadata": {},
   "outputs": [],
   "source": [
    "plt.style.use('fivethirtyeight')"
   ]
  },
  {
   "cell_type": "code",
   "execution_count": 90,
   "metadata": {},
   "outputs": [],
   "source": [
    "job_offers = df['City'].value_counts()"
   ]
  },
  {
   "cell_type": "code",
   "execution_count": 91,
   "metadata": {},
   "outputs": [
    {
     "data": {
      "text/plain": [
       "<AxesSubplot:title={'center':'Number of job offers in each city'}>"
      ]
     },
     "execution_count": 91,
     "metadata": {},
     "output_type": "execute_result"
    },
    {
     "data": {
      "image/png": "[encoded data removed]",
      "text/plain": [
       "<Figure size 1080x360 with 1 Axes>"
      ]
     },
     "metadata": {},
     "output_type": "display_data"
    }
   ],
   "source": [
    "job_offers.plot(kind='bar', figsize=(15,5), rot=45, \n",
    "                        title='Number of job offers in each city', colormap='cool')"
   ]
  },
  {
   "cell_type": "markdown",
   "metadata": {},
   "source": [
    "*Warsaw is by far the leader in the number of advertisements on the bulldogjob.pl portal, with the number of advertisements 68. Looking at this graph, you can easily conclude that the larger the city, the more job offers for IT specialists. The second conclusion is that remote work is becoming more and more popular*\n"
   ]
  },
  {
   "cell_type": "markdown",
   "metadata": {},
   "source": [
    "## <center>Average and median salaries in each city</center>"
   ]
  },
  {
   "cell_type": "code",
   "execution_count": 92,
   "metadata": {},
   "outputs": [
    {
     "data": {
      "text/html": [
       "<div>\n",
       "<style scoped>\n",
       "    .dataframe tbody tr th:only-of-type {\n",
       "        vertical-align: middle;\n",
       "    }\n",
       "\n",
       "    .dataframe tbody tr th {\n",
       "        vertical-align: top;\n",
       "    }\n",
       "\n",
       "    .dataframe thead th {\n",
       "        text-align: right;\n",
       "    }\n",
       "</style>\n",
       "<table border=\"1\" class=\"dataframe\">\n",
       "  <thead>\n",
       "    <tr style=\"text-align: right;\">\n",
       "      <th></th>\n",
       "      <th>Salary_avg</th>\n",
       "    </tr>\n",
       "    <tr>\n",
       "      <th>City</th>\n",
       "      <th></th>\n",
       "    </tr>\n",
       "  </thead>\n",
       "  <tbody>\n",
       "    <tr>\n",
       "      <th>Białystok</th>\n",
       "      <td>10693.750</td>\n",
       "    </tr>\n",
       "    <tr>\n",
       "      <th>Bielsko-Biała</th>\n",
       "      <td>8500.000</td>\n",
       "    </tr>\n",
       "    <tr>\n",
       "      <th>Cieszyn</th>\n",
       "      <td>8000.000</td>\n",
       "    </tr>\n",
       "    <tr>\n",
       "      <th>Gdańsk</th>\n",
       "      <td>15009.375</td>\n",
       "    </tr>\n",
       "    <tr>\n",
       "      <th>Gdynia</th>\n",
       "      <td>16550.000</td>\n",
       "    </tr>\n",
       "  </tbody>\n",
       "</table>\n",
       "</div>"
      ],
      "text/plain": [
       "               Salary_avg\n",
       "City                     \n",
       "Białystok       10693.750\n",
       "Bielsko-Biała    8500.000\n",
       "Cieszyn          8000.000\n",
       "Gdańsk          15009.375\n",
       "Gdynia          16550.000"
      ]
     },
     "execution_count": 92,
     "metadata": {},
     "output_type": "execute_result"
    }
   ],
   "source": [
    "salaries_avg_per_city = df.pivot_table(index='City', values='Salary_avg', aggfunc='mean')\n",
    "salaries_avg_per_city.head()"
   ]
  },
  {
   "cell_type": "code",
   "execution_count": 93,
   "metadata": {},
   "outputs": [
    {
     "data": {
      "text/plain": [
       "<AxesSubplot:title={'center':'Average wages in each cities'}, xlabel='City'>"
      ]
     },
     "execution_count": 93,
     "metadata": {},
     "output_type": "execute_result"
    },
    {
     "data": {
      "image/png": "[encoded data removed]",
      "text/plain": [
       "<Figure size 1080x360 with 1 Axes>"
      ]
     },
     "metadata": {},
     "output_type": "display_data"
    }
   ],
   "source": [
    "salaries_avg_per_city.sort_values(by='Salary_avg', ascending=False).plot(kind='bar',figsize=(15,5), rot=45, \n",
    "                                    title='Average wages in each cities', colormap='summer')"
   ]
  },
  {
   "cell_type": "markdown",
   "metadata": {},
   "source": [
    "*According to the data from the offers on bulldogjob.pl, it turns out that programmers in Gdynia earn the best money, but it should be noted that there is only one job offer in Gdynia on the website, so this city should not be taken into account in the analysis. In Gdańsk, programmers earn an average of PLN 15,000, in Warsaw about PLN 14,500. Interestingly, employees working remotely can count on equally high earnings of around PLN 14,000. Programmers in large cities earn the best, but interestingly, Wrocław is only on the 9th place in terms of earnings. Probably due to the fact that cities with a small number of ads inflate these statistics*\n"
   ]
  },
  {
   "cell_type": "markdown",
   "metadata": {},
   "source": [
    "## <center>Top 5 companies with the most job offers</center>"
   ]
  },
  {
   "cell_type": "code",
   "execution_count": 94,
   "metadata": {},
   "outputs": [],
   "source": [
    "top5Companies = df['Company'].value_counts().head(5)"
   ]
  },
  {
   "cell_type": "code",
   "execution_count": 95,
   "metadata": {},
   "outputs": [
    {
     "data": {
      "text/plain": [
       "Polcode Sp. z o.o.    35\n",
       "7N                    13\n",
       "j-labs sp. z o.o.     12\n",
       "JCommerce             11\n",
       "Sollers Consulting     8\n",
       "Name: Company, dtype: int64"
      ]
     },
     "execution_count": 95,
     "metadata": {},
     "output_type": "execute_result"
    }
   ],
   "source": [
    "top5Companies"
   ]
  },
  {
   "cell_type": "code",
   "execution_count": 96,
   "metadata": {},
   "outputs": [
    {
     "data": {
      "text/plain": [
       "<AxesSubplot:title={'center':'Top 5 companies with the largest number of job offers'}>"
      ]
     },
     "execution_count": 96,
     "metadata": {},
     "output_type": "execute_result"
    },
    {
     "data": {
      "image/png": "[encoded data removed]",
      "text/plain": [
       "<Figure size 1080x360 with 1 Axes>"
      ]
     },
     "metadata": {},
     "output_type": "display_data"
    }
   ],
   "source": [
    "top5Companies.plot(kind='bar',figsize=(15,5), rot=45, \n",
    "                   title='Top 5 companies with the largest number of job offers', colormap='brg')"
   ]
  },
  {
   "cell_type": "markdown",
   "metadata": {},
   "source": [
    "*The leader in job offers for IT on bulldogjob.pl is Polcode Sp. z o.o, which has 35 job offers, which proves that it is a large company. The next three companies: 7N, j-labs sp.z o.o. and JCommerce have 13,12,11 job offers, which may prove that they are medium-sized companies or large companies that are currently recruiting only for a specific position. Sii SP. z o.o. has 8 job offers. This could mean that this company is of medium size*\n"
   ]
  },
  {
   "cell_type": "markdown",
   "metadata": {},
   "source": [
    "## <center>Average salary for each category of job</center>"
   ]
  },
  {
   "cell_type": "code",
   "execution_count": 97,
   "metadata": {},
   "outputs": [
    {
     "data": {
      "text/html": [
       "<div>\n",
       "<style scoped>\n",
       "    .dataframe tbody tr th:only-of-type {\n",
       "        vertical-align: middle;\n",
       "    }\n",
       "\n",
       "    .dataframe tbody tr th {\n",
       "        vertical-align: top;\n",
       "    }\n",
       "\n",
       "    .dataframe thead th {\n",
       "        text-align: right;\n",
       "    }\n",
       "</style>\n",
       "<table border=\"1\" class=\"dataframe\">\n",
       "  <thead>\n",
       "    <tr style=\"text-align: right;\">\n",
       "      <th></th>\n",
       "      <th>Salary_avg</th>\n",
       "    </tr>\n",
       "    <tr>\n",
       "      <th>Job_category</th>\n",
       "      <th></th>\n",
       "    </tr>\n",
       "  </thead>\n",
       "  <tbody>\n",
       "    <tr>\n",
       "      <th>Administrator</th>\n",
       "      <td>8840.0</td>\n",
       "    </tr>\n",
       "    <tr>\n",
       "      <th>Analyst</th>\n",
       "      <td>14700.0</td>\n",
       "    </tr>\n",
       "    <tr>\n",
       "      <th>Back-End</th>\n",
       "      <td>12500.0</td>\n",
       "    </tr>\n",
       "    <tr>\n",
       "      <th>DevOps</th>\n",
       "      <td>17500.0</td>\n",
       "    </tr>\n",
       "    <tr>\n",
       "      <th>Front-End</th>\n",
       "      <td>12920.0</td>\n",
       "    </tr>\n",
       "    <tr>\n",
       "      <th>FullStack</th>\n",
       "      <td>11500.0</td>\n",
       "    </tr>\n",
       "    <tr>\n",
       "      <th>Other</th>\n",
       "      <td>12595.0</td>\n",
       "    </tr>\n",
       "    <tr>\n",
       "      <th>Support</th>\n",
       "      <td>5225.0</td>\n",
       "    </tr>\n",
       "    <tr>\n",
       "      <th>Tester</th>\n",
       "      <td>10640.0</td>\n",
       "    </tr>\n",
       "  </tbody>\n",
       "</table>\n",
       "</div>"
      ],
      "text/plain": [
       "               Salary_avg\n",
       "Job_category             \n",
       "Administrator      8840.0\n",
       "Analyst           14700.0\n",
       "Back-End          12500.0\n",
       "DevOps            17500.0\n",
       "Front-End         12920.0\n",
       "FullStack         11500.0\n",
       "Other             12595.0\n",
       "Support            5225.0\n",
       "Tester            10640.0"
      ]
     },
     "execution_count": 97,
     "metadata": {},
     "output_type": "execute_result"
    }
   ],
   "source": [
    "job_offers = df.pivot_table(index='Job_category', values='Salary_avg', aggfunc='median')\n",
    "job_offers"
   ]
  },
  {
   "cell_type": "code",
   "execution_count": 98,
   "metadata": {},
   "outputs": [
    {
     "data": {
      "text/plain": [
       "<AxesSubplot:title={'center':'Average salary depending on the job category'}, xlabel='Job_category'>"
      ]
     },
     "execution_count": 98,
     "metadata": {},
     "output_type": "execute_result"
    },
    {
     "data": {
      "image/png": "[encoded data removed]",
      "text/plain": [
       "<Figure size 1080x360 with 1 Axes>"
      ]
     },
     "metadata": {},
     "output_type": "display_data"
    }
   ],
   "source": [
    "job_offers.sort_values(by='Salary_avg', ascending=False).plot(kind='bar', \n",
    "                        figsize=(15,5), rot=45, title='Average salary depending on the job category', colormap='summer')"
   ]
  },
  {
   "cell_type": "markdown",
   "metadata": {},
   "source": [
    "\n",
    "*According to the data presented above, it turns out that DevOps employees has the highest earnings at the level of 17,500 PLN. Analysts earn an average of 15,000 PLN, while Front_Ends earn around PLN 13,000. It turns out that there is a slight difference in earnings between Front-End and Back-End employees*"
   ]
  },
  {
   "cell_type": "markdown",
   "metadata": {},
   "source": [
    "## <center>The expected increase in the average wage in 2021 due to the increase in the minimum wage</center>"
   ]
  },
  {
   "cell_type": "code",
   "execution_count": 99,
   "metadata": {},
   "outputs": [],
   "source": [
    "grow_salary_2021 = round((18.50/17),2)"
   ]
  },
  {
   "cell_type": "code",
   "execution_count": 100,
   "metadata": {},
   "outputs": [
    {
     "data": {
      "text/plain": [
       "1.09"
      ]
     },
     "execution_count": 100,
     "metadata": {},
     "output_type": "execute_result"
    }
   ],
   "source": [
    "grow_salary_2021"
   ]
  },
  {
   "cell_type": "code",
   "execution_count": 101,
   "metadata": {},
   "outputs": [],
   "source": [
    "df['Expected_avg_salary_2021'] = df['Salary_avg']*grow_salary_2021"
   ]
  },
  {
   "cell_type": "code",
   "execution_count": 102,
   "metadata": {},
   "outputs": [
    {
     "data": {
      "text/html": [
       "<div>\n",
       "<style scoped>\n",
       "    .dataframe tbody tr th:only-of-type {\n",
       "        vertical-align: middle;\n",
       "    }\n",
       "\n",
       "    .dataframe tbody tr th {\n",
       "        vertical-align: top;\n",
       "    }\n",
       "\n",
       "    .dataframe thead th {\n",
       "        text-align: right;\n",
       "    }\n",
       "</style>\n",
       "<table border=\"1\" class=\"dataframe\">\n",
       "  <thead>\n",
       "    <tr style=\"text-align: right;\">\n",
       "      <th></th>\n",
       "      <th>Company</th>\n",
       "      <th>Job title</th>\n",
       "      <th>Salary (PLN)</th>\n",
       "      <th>MinSalary</th>\n",
       "      <th>MaxSalary</th>\n",
       "      <th>City</th>\n",
       "      <th>Job_category</th>\n",
       "      <th>Salary_avg</th>\n",
       "      <th>Expected_avg_salary_2021</th>\n",
       "    </tr>\n",
       "  </thead>\n",
       "  <tbody>\n",
       "    <tr>\n",
       "      <th>0</th>\n",
       "      <td>Applause</td>\n",
       "      <td>DEVOPS SOFTWARE ENGINEER</td>\n",
       "      <td>15 000 - 20 000</td>\n",
       "      <td>15000</td>\n",
       "      <td>20000</td>\n",
       "      <td>Warszawa</td>\n",
       "      <td>DevOps</td>\n",
       "      <td>17500.0</td>\n",
       "      <td>19075.0</td>\n",
       "    </tr>\n",
       "    <tr>\n",
       "      <th>1</th>\n",
       "      <td>j-labs sp. z o.o.</td>\n",
       "      <td>BACKEND DEVELOPER (JAVA)</td>\n",
       "      <td>12 000 - 19 000</td>\n",
       "      <td>12000</td>\n",
       "      <td>19000</td>\n",
       "      <td>Kraków</td>\n",
       "      <td>Back-End</td>\n",
       "      <td>15500.0</td>\n",
       "      <td>16895.0</td>\n",
       "    </tr>\n",
       "    <tr>\n",
       "      <th>2</th>\n",
       "      <td>Codemachine</td>\n",
       "      <td>FRONT-END DEVELOPER</td>\n",
       "      <td>12 000 - 16 000</td>\n",
       "      <td>12000</td>\n",
       "      <td>16000</td>\n",
       "      <td>Wrocław</td>\n",
       "      <td>Front-End</td>\n",
       "      <td>14000.0</td>\n",
       "      <td>15260.0</td>\n",
       "    </tr>\n",
       "    <tr>\n",
       "      <th>3</th>\n",
       "      <td>Brainhub Sp. z o.o.</td>\n",
       "      <td>GO DEVELOPER</td>\n",
       "      <td>10 000 - 16 000</td>\n",
       "      <td>10000</td>\n",
       "      <td>16000</td>\n",
       "      <td>Gliwice</td>\n",
       "      <td>Other</td>\n",
       "      <td>13000.0</td>\n",
       "      <td>14170.0</td>\n",
       "    </tr>\n",
       "    <tr>\n",
       "      <th>4</th>\n",
       "      <td>KRUK S.A.</td>\n",
       "      <td>.NET DEVELOPER</td>\n",
       "      <td>7 000 - 12 000</td>\n",
       "      <td>7000</td>\n",
       "      <td>12000</td>\n",
       "      <td>Wrocław</td>\n",
       "      <td>Back-End</td>\n",
       "      <td>9500.0</td>\n",
       "      <td>10355.0</td>\n",
       "    </tr>\n",
       "  </tbody>\n",
       "</table>\n",
       "</div>"
      ],
      "text/plain": [
       "               Company                 Job title     Salary (PLN)  MinSalary  \\\n",
       "0             Applause  DEVOPS SOFTWARE ENGINEER  15 000 - 20 000      15000   \n",
       "1    j-labs sp. z o.o.  BACKEND DEVELOPER (JAVA)  12 000 - 19 000      12000   \n",
       "2          Codemachine       FRONT-END DEVELOPER  12 000 - 16 000      12000   \n",
       "3  Brainhub Sp. z o.o.              GO DEVELOPER  10 000 - 16 000      10000   \n",
       "4            KRUK S.A.            .NET DEVELOPER   7 000 - 12 000       7000   \n",
       "\n",
       "   MaxSalary      City Job_category  Salary_avg  Expected_avg_salary_2021  \n",
       "0      20000  Warszawa       DevOps     17500.0                   19075.0  \n",
       "1      19000    Kraków     Back-End     15500.0                   16895.0  \n",
       "2      16000   Wrocław    Front-End     14000.0                   15260.0  \n",
       "3      16000   Gliwice        Other     13000.0                   14170.0  \n",
       "4      12000   Wrocław     Back-End      9500.0                   10355.0  "
      ]
     },
     "execution_count": 102,
     "metadata": {},
     "output_type": "execute_result"
    }
   ],
   "source": [
    "df.head()"
   ]
  },
  {
   "cell_type": "code",
   "execution_count": 103,
   "metadata": {},
   "outputs": [],
   "source": [
    "expected_salaries_avg_per_city = df.pivot_table(index='City', values=['Salary_avg','Expected_avg_salary_2021'], aggfunc='mean')"
   ]
  },
  {
   "cell_type": "code",
   "execution_count": 104,
   "metadata": {},
   "outputs": [
    {
     "data": {
      "text/html": [
       "<div>\n",
       "<style scoped>\n",
       "    .dataframe tbody tr th:only-of-type {\n",
       "        vertical-align: middle;\n",
       "    }\n",
       "\n",
       "    .dataframe tbody tr th {\n",
       "        vertical-align: top;\n",
       "    }\n",
       "\n",
       "    .dataframe thead th {\n",
       "        text-align: right;\n",
       "    }\n",
       "</style>\n",
       "<table border=\"1\" class=\"dataframe\">\n",
       "  <thead>\n",
       "    <tr style=\"text-align: right;\">\n",
       "      <th></th>\n",
       "      <th>Expected_avg_salary_2021</th>\n",
       "      <th>Salary_avg</th>\n",
       "    </tr>\n",
       "    <tr>\n",
       "      <th>City</th>\n",
       "      <th></th>\n",
       "      <th></th>\n",
       "    </tr>\n",
       "  </thead>\n",
       "  <tbody>\n",
       "    <tr>\n",
       "      <th>Białystok</th>\n",
       "      <td>11656.18750</td>\n",
       "      <td>10693.750</td>\n",
       "    </tr>\n",
       "    <tr>\n",
       "      <th>Bielsko-Biała</th>\n",
       "      <td>9265.00000</td>\n",
       "      <td>8500.000</td>\n",
       "    </tr>\n",
       "    <tr>\n",
       "      <th>Cieszyn</th>\n",
       "      <td>8720.00000</td>\n",
       "      <td>8000.000</td>\n",
       "    </tr>\n",
       "    <tr>\n",
       "      <th>Gdańsk</th>\n",
       "      <td>16360.21875</td>\n",
       "      <td>15009.375</td>\n",
       "    </tr>\n",
       "    <tr>\n",
       "      <th>Gdynia</th>\n",
       "      <td>18039.50000</td>\n",
       "      <td>16550.000</td>\n",
       "    </tr>\n",
       "  </tbody>\n",
       "</table>\n",
       "</div>"
      ],
      "text/plain": [
       "               Expected_avg_salary_2021  Salary_avg\n",
       "City                                               \n",
       "Białystok                   11656.18750   10693.750\n",
       "Bielsko-Biała                9265.00000    8500.000\n",
       "Cieszyn                      8720.00000    8000.000\n",
       "Gdańsk                      16360.21875   15009.375\n",
       "Gdynia                      18039.50000   16550.000"
      ]
     },
     "execution_count": 104,
     "metadata": {},
     "output_type": "execute_result"
    }
   ],
   "source": [
    "expected_salaries_avg_per_city.head()"
   ]
  },
  {
   "cell_type": "code",
   "execution_count": 105,
   "metadata": {},
   "outputs": [
    {
     "data": {
      "text/plain": [
       "<AxesSubplot:title={'center':'Expected increase in average wages in 2021'}, xlabel='City'>"
      ]
     },
     "execution_count": 105,
     "metadata": {},
     "output_type": "execute_result"
    },
    {
     "data": {
      "image/png": "[encoded data removed]",
      "text/plain": [
       "<Figure size 1080x360 with 1 Axes>"
      ]
     },
     "metadata": {},
     "output_type": "display_data"
    }
   ],
   "source": [
    "expected_salaries_avg_per_city.plot(kind='bar', figsize=(15,5), rot=45, title='Expected increase in average wages in 2021')"
   ]
  },
  {
   "cell_type": "markdown",
   "metadata": {},
   "source": [
    "*The expected salary increase is based on the increase in the minimum wage from PLN 17 / h to PLN 18.50 / h, which is an increase of approximately 9%*"
   ]
  },
  {
   "cell_type": "markdown",
   "metadata": {},
   "source": [
    "## <center>Box plot with all numeric values</center>"
   ]
  },
  {
   "cell_type": "code",
   "execution_count": 106,
   "metadata": {},
   "outputs": [
    {
     "data": {
      "text/plain": [
       "<AxesSubplot:>"
      ]
     },
     "execution_count": 106,
     "metadata": {},
     "output_type": "execute_result"
    },
    {
     "data": {
      "image/png": "[encoded data removed]",
      "text/plain": [
       "<Figure size 1080x504 with 1 Axes>"
      ]
     },
     "metadata": {},
     "output_type": "display_data"
    }
   ],
   "source": [
    "df.plot(kind='box', rot=45, figsize=(15,7))"
   ]
  },
  {
   "cell_type": "markdown",
   "metadata": {},
   "source": [
    "\n",
    "*Salary depends on many factors, including experience, length of service, skills and type of work, hence such a large discrepancy in the minimum and maximum.\n",
    "As we can see, the most common value of the average salary in IT is about 13 000 PLN, while in 2021 the expected value will increase to over PLN 14,500.*\n"
   ]
  }
 ],
 "metadata": {
  "kernelspec": {
   "display_name": "Python 3",
   "language": "python",
   "name": "python3"
  },
  "language_info": {
   "codemirror_mode": {
    "name": "ipython",
    "version": 3
   },
   "file_extension": ".py",
   "mimetype": "text/x-python",
   "name": "python",
   "nbconvert_exporter": "python",
   "pygments_lexer": "ipython3",
   "version": "3.7.9"
  }
 },
 "nbformat": 4,
 "nbformat_minor": 4
}
